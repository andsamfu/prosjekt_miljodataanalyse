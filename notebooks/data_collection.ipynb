{
 "cells": [
  {
   "cell_type": "markdown",
   "metadata": {},
   "source": [
    "## Data collection\n",
    "Dette er en felles fil for å kjøre scripts for data kolleksjon fra API-calls."
   ]
  },
  {
   "cell_type": "markdown",
   "metadata": {},
   "source": [
    "### Først ta valg om data\n",
    "1. Velg dataperiode (hele årstall, eks fra 2010 til 2016). Dette må så gjøres om til YYYY-MM-DD format (2010-01-01)\n",
    "2. Velg lokasjon med å velge by i Norge eller skrive inn koordniater. Om man velger by, så hentes koordinatene med API. Hente liste med Byer? Eller skrive inn manuelt?"
   ]
  },
  {
   "cell_type": "code",
   "execution_count": 4,
   "metadata": {},
   "outputs": [
    {
     "name": "stdout",
     "output_type": "stream",
     "text": [
      "Valgt tidsperiode: 2010-01-01 til 2020-01-01\n"
     ]
    }
   ],
   "source": [
    "import datetime\n",
    "\n",
    "\n",
    "start_year = int(input(\"Skriv inn startår (f.eks. 2010): \"))\n",
    "end_year = int(input(\"Skriv inn sluttår (f.eks. 2016): \"))\n",
    "\n",
    "# Konverter årstallene til datetime-objekter\n",
    "start_date = datetime.date(start_year, 1, 1)\n",
    "end_date = datetime.date(end_year, 1, 1)\n",
    "\n",
    "print(f\"Valgt tidsperiode: {start_date} til {end_date}\")\n"
   ]
  },
  {
   "cell_type": "code",
   "execution_count": 5,
   "metadata": {},
   "outputs": [
    {
     "name": "stdout",
     "output_type": "stream",
     "text": [
      "Valgt tidsperiode: 2010-01-01 til 2020-01-01\n",
      "Koordinater for oslo: 59.91273, 10.74609\n"
     ]
    }
   ],
   "source": [
    "# her skriver man inn byen manuelt, så kommer kordinatene \n",
    "\n",
    "\n",
    "\n",
    "import datetime\n",
    "import requests\n",
    "import json\n",
    "\n",
    "start_year = int(input(\"Skriv inn startår (f.eks. 2010): \"))\n",
    "end_year = int(input(\"Skriv inn sluttår (f.eks. 2016): \"))\n",
    "\n",
    "# Konverter årstallene til datetime-objekter\n",
    "start_date = datetime.date(start_year, 1, 1)\n",
    "end_date = datetime.date(end_year, 1, 1)\n",
    "\n",
    "print(f\"Valgt tidsperiode: {start_date} til {end_date}\")\n",
    "\n",
    "# La brukeren skrive inn bynavnet\n",
    "selected_city = input(\"Skriv inn navnet på byen: \")\n",
    "\n",
    "# Hent koordinater fra Open-Meteo Geocoding API\n",
    "geo_url = f\"https://geocoding-api.open-meteo.com/v1/search?name={selected_city}&count=1\"\n",
    "geo_response = requests.get(geo_url)\n",
    "geo_data = geo_response.json()\n",
    "\n",
    "# Sjekk om vi fikk et resultat\n",
    "if \"results\" in geo_data and geo_data[\"results\"]:\n",
    "    lat = geo_data[\"results\"][0][\"latitude\"]\n",
    "    lon = geo_data[\"results\"][0][\"longitude\"]\n",
    "    print(f\"Koordinater for {selected_city}: {lat}, {lon}\")\n",
    "else:\n",
    "    print(f\"Fant ikke koordinater for {selected_city}.\")"
   ]
  },
  {
   "cell_type": "code",
   "execution_count": 6,
   "metadata": {},
   "outputs": [
    {
     "name": "stdout",
     "output_type": "stream",
     "text": [
      "Valgt tidsperiode: 2010-01-01 til 2020-01-01\n",
      "Velg en by fra listen:\n",
      "1. Oslo\n",
      "2. Bergen\n",
      "3. Trondheim\n",
      "4. Stavanger\n",
      "5. Tromsø\n",
      "6. Kristiansand\n",
      "7. Drammen\n",
      "8. Ålesund\n",
      "Valgt by: Trondheim\n",
      "Koordinater for Trondheim: 63.43049, 10.39506\n"
     ]
    }
   ],
   "source": [
    "# her skriver man først en liste med byer i selve koden, også kan bruker velge tall (by), så kommer kordinatene \n",
    "# syns den første er mer ryddig \n",
    "\n",
    "\n",
    "import datetime\n",
    "import requests\n",
    "import json\n",
    "\n",
    "start_year = int(input(\"Skriv inn startår (f.eks. 2010): \"))\n",
    "end_year = int(input(\"Skriv inn sluttår (f.eks. 2016): \"))\n",
    "\n",
    "# Konverter årstallene til datetime-objekter\n",
    "start_date = datetime.date(start_year, 1, 1)\n",
    "end_date = datetime.date(end_year, 1, 1)\n",
    "\n",
    "print(f\"Valgt tidsperiode: {start_date} til {end_date}\")\n",
    "\n",
    "cities = [\"Oslo\", \"Bergen\", \"Trondheim\", \"Stavanger\", \"Tromsø\", \"Kristiansand\", \"Drammen\", \"Ålesund\"] # her kan vi legge de byene vi ønsker\n",
    "\n",
    "print(\"Velg en by fra listen:\")\n",
    "for i, city in enumerate(cities):\n",
    "    print(f\"{i+1}. {city}\")\n",
    "\n",
    "while True:\n",
    "    try:\n",
    "        city_index = int(input(\"Skriv inn nummeret til byen: \")) - 1\n",
    "        selected_city = cities[city_index]\n",
    "        break\n",
    "    except (ValueError, IndexError):\n",
    "        print(\"Ugyldig valg. Prøv igjen.\")\n",
    "\n",
    "print(f\"Valgt by: {selected_city}\")\n",
    "\n",
    "# Hent koordinater fra Open-Meteo Geocoding API\n",
    "geo_url = f\"https://geocoding-api.open-meteo.com/v1/search?name={selected_city}&count=1\"\n",
    "geo_response = requests.get(geo_url)\n",
    "geo_data = geo_response.json()\n",
    "\n",
    "# Sjekk om vi fikk et resultat\n",
    "if \"results\" in geo_data and geo_data[\"results\"]:\n",
    "    lat = geo_data[\"results\"][0][\"latitude\"]\n",
    "    lon = geo_data[\"results\"][0][\"longitude\"]\n",
    "    print(f\"Koordinater for {selected_city}: {lat}, {lon}\")\n",
    "else:\n",
    "    print(f\"Fant ikke koordinater for {selected_city}.\")\n"
   ]
  },
  {
   "cell_type": "markdown",
   "metadata": {},
   "source": [
    "### Frost - weather\n",
    "API for å hente temperatur, nedbør og vindhastighet for en lokasjon"
   ]
  },
  {
   "cell_type": "code",
   "execution_count": 8,
   "metadata": {},
   "outputs": [
    {
     "name": "stdout",
     "output_type": "stream",
     "text": [
      "test\n"
     ]
    }
   ],
   "source": [
    "print(\"test\")"
   ]
  },
  {
   "cell_type": "markdown",
   "metadata": {},
   "source": [
    "### Nilu - air quality\n",
    "API for å hente luftkvalitet med NO2, PM10 og PM2.5 for en lokasjon"
   ]
  },
  {
   "cell_type": "code",
   "execution_count": 1,
   "metadata": {},
   "outputs": [
    {
     "name": "stdout",
     "output_type": "stream",
     "text": [
      "test\n"
     ]
    }
   ],
   "source": [
    "print(\"test\")"
   ]
  },
  {
   "cell_type": "markdown",
   "metadata": {},
   "source": [
    "## Met - Weatherforcast\n",
    "API for å hente vær for de neste dagene. Ikke like viktig som de andre API-ene."
   ]
  },
  {
   "cell_type": "code",
   "execution_count": 2,
   "metadata": {},
   "outputs": [
    {
     "name": "stdout",
     "output_type": "stream",
     "text": [
      "test\n"
     ]
    }
   ],
   "source": [
    "print(\"test\")"
   ]
  }
 ],
 "metadata": {
  "kernelspec": {
   "display_name": "venv",
   "language": "python",
   "name": "python3"
  },
  "language_info": {
   "codemirror_mode": {
    "name": "ipython",
    "version": 3
   },
   "file_extension": ".py",
   "mimetype": "text/x-python",
   "name": "python",
   "nbconvert_exporter": "python",
   "pygments_lexer": "ipython3",
   "version": "3.13.2"
  }
 },
 "nbformat": 4,
 "nbformat_minor": 2
}
