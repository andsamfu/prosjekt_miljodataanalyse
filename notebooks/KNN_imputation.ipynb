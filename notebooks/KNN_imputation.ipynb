{
 "cells": [
  {
   "cell_type": "markdown",
   "id": "03e40650",
   "metadata": {},
   "source": [
    "# 🤖 Hvorfor valgte vi KNN-imputasjon?\n",
    "\n",
    "I dette prosjektet valgte vi å bruke KNN-imputasjon for å fylle inn manglende verdier i miljødataene våre, spesielt i NILU-datasettet. Denne metoden ble valgt fremfor enklere alternativer som lineær interpolasjon fordi den i større grad tar hensyn til mønstre og sammenhenger i dataene. I det følgende forklarer vi hvordan KNN-imputasjon fungerer, hvorfor vi valgte det, og hvilke fordeler og begrensninger metoden har hatt i vår bruk.\n",
    "\n",
    "---\n",
    "\n",
    "##  Hva er KNN-imputasjon?\n",
    "\n",
    "KNN-imputasjon (K-Nearest Neighbors) er en metode der manglende verdier estimeres ved hjelp av observasjoner som ligner på den manglende raden. Når en verdi mangler i en rad, finner algoritmen de *k* mest like radene basert på øvrige verdier, og fyller inn en verdi (ofte gjennomsnitt) basert på disse. Dette gjør at metoden fanger opp både mønstre og korrelasjoner i dataene, og er spesielt godt egnet når verdiene ikke varierer helt tilfeldig.\n",
    "\n",
    "👉 For mer teknisk informasjon, se [Scikit-learn sin dokumentasjon](https://scikit-learn.org/stable/modules/generated/sklearn.impute.KNNImputer.html).\n",
    "\n",
    "---\n",
    "\n",
    "##  Hvorfor vi valgte KNN-imputasjon\n",
    "\n",
    "1. **Bevarer naturlige variasjoner:**  \n",
    "   I motsetning til lineær interpolasjon, som gir rette linjer mellom kjente verdier, klarer KNN å bevare sesongmønstre og naturlige svingninger.\n",
    "\n",
    "2. **Tar hensyn til sammenhenger mellom variabler:**  \n",
    "   Metoden bruker likheter mellom observasjoner, noe som er viktig i miljødata der verdier ofte påvirker hverandre.\n",
    "\n",
    "3. **Fungerer ved store hull:**  \n",
    "   Lineær interpolasjon fungerer dårlig ved lange perioder med manglende data. KNN håndterer dette bedre ved å se på helheten i datasettet.\n",
    "\n",
    "4. **Enkel å justere:**  \n",
    "   Antall naboer (*k*) kan justeres for å kontrollere hvor mye påvirkning omgivelsene skal ha.\n",
    "\n",
    "---\n",
    "\n",
    "##  Begrensninger og utfordringer\n",
    "\n",
    "Selv om KNN-imputasjon gir bedre resultater enn enklere metoder i vårt tilfelle, er det ikke uten problemer:\n",
    "\n",
    "- **Avhenger sterkt av mønstre i dataene:**  \n",
    "  Hvis datasettet har mye støy eller lite struktur, kan KNN gi dårligere estimater enn forventet.\n",
    "\n",
    "- **Sensitiv for valg av *k*:**  \n",
    "  Et for lavt eller for høyt *k*-verdi kan føre til overtilpasning eller for \"flate\" resultater. Vi valgte *k = 100* etter flere forsøk der vi sammenlignet resultatene, men det er ikke nødvendigvis optimalt.\n",
    "\n",
    "- **Rett linjer oppstår fortsatt:**  \n",
    "  Selv med KNN så vi noen rette linjer i visualiseringene. Dette kan skyldes at enkelte manglende verdier havnet i like omgivelser, eller at algoritmen fant identiske nabolag å fylle inn med.\n",
    "\n",
    "- **Tidsrekkefølge ignoreres:**  \n",
    "  KNN bruker ikke informasjon om at dataene er en tidsserie, og kan derfor \"låne\" verdier fra andre sesonger, noe som i enkelte tilfeller kan gi lite realistiske resultater.\n",
    "\n",
    "---\n",
    "\n",
    "## 📊 Visualisering med og uten KNN-imputasjon\n",
    "\n",
    "---\n",
    "\n",
    "\n"
   ]
  },
  {
   "cell_type": "markdown",
   "id": "8a1226c6",
   "metadata": {},
   "source": [
    "**Før KNN-imputasjon**\n",
    "\n",
    "Grafen nedenfor viser målingene for NO₂ der manglende verdier er fylt inn ved hjelp av lineær interpolasjon. Denne metoden estimerer verdiene ved å trekke en rett linje mellom den siste kjente verdien og den neste kjente verdien. Resultatet er mange rette linjer i visualiseringen, noe som tydelig viser at metoden ikke tar hensyn til sesongvariasjoner eller andre naturlige mønstre i dataene.\n",
    "\n",
    "![Før KNN-imputasjon](../resources/images/knn/NO2_without_KNN.png)\n",
    "\n"
   ]
  },
  {
   "cell_type": "markdown",
   "id": "455ec80e",
   "metadata": {},
   "source": [
    "\n",
    "**Etter KNN-imputasjon**\n",
    "\n",
    "Grafen nedenfor viser målingene for NO₂ etter at manglende verdier er fylt inn ved hjelp av KNN-imputasjon. I motsetning til lineær interpolasjon tar KNN-metoden hensyn til mønstre og sammenhenger i dataene, noe som gir en mer realistisk utfylling av manglende verdier. Dette resulterer i en jevnere visualisering som bedre reflekterer sesongvariasjoner og naturlige trender i dataene. Vi opplevde imidlertid fortsatt noen problemer med KNN-imputasjonen, som førte til enkelte rette streker i grafen, men i betydelig mindre grad enn tidligere. Til tross for omfattende feilsøking klarte vi ikke å eliminere dette helt.\n",
    "\n",
    "![Etter KNN-imputasjon](../resources/images/knn/NO2_with_KNN.png)\n",
    "\n",
    "---\n",
    "\n",
    "## 🧾 Oppsummering\n",
    "\n",
    "KNN-imputasjon har vært et nyttig verktøy for å forbedre kvaliteten i NILU-datasettet. Metoden gir mer realistiske og nyanserte estimater enn enkle metoder, og bidrar til at analyser og modeller baseres på et mer helhetlig datasett. Samtidig må man være oppmerksom på at algoritmen ikke forstår kontekst, og at resultatene kan påvirkes av valg av parametere og datastruktur.\n",
    "\n",
    "Derfor har vi merket alle imputerte verdier eksplisitt i datasettet, slik at det er tydelig hva som er målt og hva som er estimert. Det gir transparens og mulighet for videre vurdering og filtrering."
   ]
  },
  {
   "cell_type": "markdown",
   "id": "fcaaf002",
   "metadata": {},
   "source": [
    "### [**Tilbake til datarensing**](01_data_cleaning.ipynb)\n",
    "\n",
    "#### [**Til samlesiden**](../docs/samleside.md)"
   ]
  }
 ],
 "metadata": {
  "kernelspec": {
   "display_name": "venv",
   "language": "python",
   "name": "python3"
  },
  "language_info": {
   "codemirror_mode": {
    "name": "ipython",
    "version": 3
   },
   "file_extension": ".py",
   "mimetype": "text/x-python",
   "name": "python",
   "nbconvert_exporter": "python",
   "pygments_lexer": "ipython3",
   "version": "3.13.2"
  }
 },
 "nbformat": 4,
 "nbformat_minor": 5
}
