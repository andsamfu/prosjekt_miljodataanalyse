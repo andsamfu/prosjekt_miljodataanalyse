{
 "cells": [
  {
   "cell_type": "code",
   "execution_count": null,
   "id": "4e6e05df",
   "metadata": {},
   "outputs": [],
   "source": [
    "import sys\n",
    "import os\n",
    "from data_visualizations.dataframes import build_dataframe_from_json, build_dataframe_from_db\n",
    "\n",
    "notebook_dir = os.path.dirname(os.path.abspath(\"__file__\"))\n",
    "project_root = os.path.abspath(os.path.join(notebook_dir, \"..\"))\n",
    "sys.path.append(os.path.join(project_root, 'src'))\n",
    "json_df = build_dataframe_from_json('data/clean/cleaned_data_nilu.json')\n",
    "db_df = build_dataframe_from_db('data/clean/frost.db', 'weather_data')\n",
    "\n"
   ]
  },
  {
   "cell_type": "markdown",
   "id": "599717c6",
   "metadata": {
    "vscode": {
     "languageId": "plaintext"
    }
   },
   "source": [
    "# 📊 Data visualisering og analyse\n",
    "\n",
    "Denne notebooken bygger videre på data vi har hentet og renset fra både **Frost** og **NILU**. Vi skal nå starte analysen og visualiseringen av dataen og forsøke å trekke ut meningsfull innsikt. Vi vil bruke visuelle fremstillinger for å forstå variasjoner, sammenhenger og trender i miljødataen. Først skal vi se luftkvaliteten i Trondheim før vi går videre på været.\n",
    "\n",
    "Målet er å identifisere mønstre som er interessante i seg selv (f.eks. hvordan luftkvalitet varierer gjennom året), men også å gi et godt kunnskaps og sammenlignings-grunnlag for å forstå den prediktive analysen i neste steg av prosjektet."
   ]
  },
  {
   "cell_type": "markdown",
   "id": "78db30c1",
   "metadata": {},
   "source": [
    "### 🌫️ - Luftkvaliteten i Trondheim\n",
    "Først skal vi få oversikt over statistiske verdier som gjennomsnitt, median og standaravvik over ulike luftkvalitets indikatorer, som gir oss en rask oversikt over dataens fordeling, variasjon og typiske verdier. Dette hjelper oss med å forstå dataen og identifisere eventuelle avvik eller mønstre.\n",
    "\n",
    "**DataFrame over luftkvalitet**"
   ]
  },
  {
   "cell_type": "code",
   "execution_count": 2,
   "id": "890dcd39",
   "metadata": {},
   "outputs": [
    {
     "name": "stdout",
     "output_type": "stream",
     "text": [
      "     dateTime      NO2     PM10    PM2.5  generated_NO2  generated_PM10  generated_PM2.5\n",
      "0  2010-01-01  25.7208  39.1000  12.8957          False           False             True\n",
      "1  2010-01-02  26.8000  30.8542  12.8248          False           False             True\n",
      "2  2010-01-03  13.3208   9.7208   8.5542          False           False            False\n",
      "3  2010-01-04  47.7167  23.6708  20.7542          False           False            False\n",
      "4  2010-01-05  47.4542  25.8250  24.9000          False           False            False\n",
      "5  2010-01-06  59.3042  39.9417  18.6051          False           False             True\n"
     ]
    }
   ],
   "source": [
    "print(json_df)"
   ]
  },
  {
   "cell_type": "markdown",
   "id": "15dd051c",
   "metadata": {},
   "source": [
    "Videre ønsker vi å se på datasettet i sin helhet. Til dette har vi brukt plotly for å lage en interaktiv graf, hvor man selv enkelt kan filtrere ut enkelte verdier, skalere tidslinjen og lese av nøyaktige verdier for hver observasjon."
   ]
  },
  {
   "cell_type": "code",
   "execution_count": 3,
   "id": "23b85439",
   "metadata": {},
   "outputs": [],
   "source": [
    "# Hente inn ploty over NILU"
   ]
  },
  {
   "cell_type": "markdown",
   "id": "ce35d22d",
   "metadata": {},
   "source": [
    "Litt om en annen visualiseringen"
   ]
  },
  {
   "cell_type": "code",
   "execution_count": 4,
   "id": "70c36704",
   "metadata": {},
   "outputs": [],
   "source": [
    "# Hente inn visualiseringen nevnt overfor"
   ]
  },
  {
   "cell_type": "markdown",
   "id": "3371ec0c",
   "metadata": {},
   "source": [
    "### 🌦️ - Været i Trondheim\n",
    "Nå går vi fra luftkvalitet til værdata og skal undersøke været i Trondheim de siste årene. Som med luftkvaliteten starter vi med å analysere statistikken for å få en god oversikt over dataene. "
   ]
  },
  {
   "cell_type": "code",
   "execution_count": 5,
   "id": "a5a827d7",
   "metadata": {},
   "outputs": [
    {
     "name": "stdout",
     "output_type": "stream",
     "text": [
      "  referenceTime  mean_air_temperature  mean_wind_speed  total_precipitation  generated_mean_air_temperature  generated_mean_wind_speed  generated_total_precipitation\n",
      "0    2010-01-01                 -10.0              1.6                  2.1                               0                          0                              0\n",
      "1    2010-01-02                 -13.5              2.6                  0.1                               0                          0                              0\n",
      "2    2010-01-03                  -2.3              3.0                  1.1                               0                          0                              0\n",
      "3    2010-01-04                  -4.7              2.8                  7.9                               0                          0                              0\n",
      "4    2010-01-05                 -15.8              2.7                  0.4                               0                          0                              0\n",
      "5    2010-01-06                 -20.4              1.6                  0.0                               0                          0                              0\n"
     ]
    }
   ],
   "source": [
    "# Hente inn dataframe for Frost\n",
    "print(db_df)"
   ]
  }
 ],
 "metadata": {
  "kernelspec": {
   "display_name": "venv",
   "language": "python",
   "name": "python3"
  },
  "language_info": {
   "codemirror_mode": {
    "name": "ipython",
    "version": 3
   },
   "file_extension": ".py",
   "mimetype": "text/x-python",
   "name": "python",
   "nbconvert_exporter": "python",
   "pygments_lexer": "ipython3",
   "version": "3.13.2"
  }
 },
 "nbformat": 4,
 "nbformat_minor": 5
}
