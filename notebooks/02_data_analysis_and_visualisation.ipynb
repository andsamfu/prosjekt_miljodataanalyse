{
 "cells": [
  {
   "cell_type": "markdown",
   "id": "599717c6",
   "metadata": {
    "vscode": {
     "languageId": "plaintext"
    }
   },
   "source": [
    "# 📊 Data visualisering og analyse\n",
    "\n",
    "Denne notebooken bygger videre på data vi har hentet og renset fra både **Frost** og **NILU**. Vi skal nå starte analysen og visualiseringen av dataen og forsøke å trekke ut meningsfull innsikt. Vi vil bruke visuelle fremstillinger for å forstå variasjoner, sammenhenger og trender i miljødataen. Først skal vi se luftkvaliteten i Trondheim før vi går videre på været.\n",
    "\n",
    "Målet er å identifisere mønstre som er interessante i seg selv (f.eks. hvordan luftkvalitet varierer gjennom året), men også å gi et godt kunnskaps og sammenlignings-grunnlag for å forstå den prediktive analysen i neste steg av prosjektet."
   ]
  },
  {
   "cell_type": "markdown",
   "id": "78db30c1",
   "metadata": {},
   "source": [
    "### 🌫️ - Luftkvaliteten i Trondheim\n",
    "Først skal vi få oversikt over statistiske verdier som gjennomsnitt, median og standaravvik over ulike luftkvalitets indikatorer, som gir oss en rask oversikt over dataens fordeling, variasjon og typiske verdier. Dette hjelper oss med å forstå dataen og identifisere eventuelle avvik eller mønstre.\n",
    "\n",
    "**DataFrame over luftkvalitet**"
   ]
  },
  {
   "cell_type": "code",
   "execution_count": 1,
   "id": "890dcd39",
   "metadata": {},
   "outputs": [],
   "source": [
    "# Henter inn liten dataframe for NILU"
   ]
  },
  {
   "cell_type": "markdown",
   "id": "15dd051c",
   "metadata": {},
   "source": [
    "Videre ønsker vi å se på datasettet i sin helhet. Til dette har vi brukt plotly for å lage en interaktiv graf, hvor man selv enkelt kan filtrere ut enkelte verdier, skalere tidslinjen og lese av nøyaktige verdier for hver observasjon."
   ]
  },
  {
   "cell_type": "code",
   "execution_count": null,
   "id": "23b85439",
   "metadata": {},
   "outputs": [],
   "source": [
    "# Hente inn ploty over NILU"
   ]
  },
  {
   "cell_type": "markdown",
   "id": "ce35d22d",
   "metadata": {},
   "source": [
    "Litt om en annen visualiseringen"
   ]
  },
  {
   "cell_type": "code",
   "execution_count": null,
   "id": "70c36704",
   "metadata": {},
   "outputs": [],
   "source": [
    "# Hente inn visualiseringen nevnt overfor"
   ]
  },
  {
   "cell_type": "markdown",
   "id": "3371ec0c",
   "metadata": {},
   "source": [
    "### 🌦️ - Været i Trondheim\n",
    "Nå går vi fra luftkvalitet til værdata og skal undersøke været i Trondheim de siste årene. Som med luftkvaliteten starter vi med å analysere statistikken for å få en god oversikt over dataene. "
   ]
  },
  {
   "cell_type": "code",
   "execution_count": null,
   "id": "a5a827d7",
   "metadata": {},
   "outputs": [],
   "source": [
    "# Hente inn dataframe for Frost"
   ]
  }
 ],
 "metadata": {
  "kernelspec": {
   "display_name": "venv",
   "language": "python",
   "name": "python3"
  },
  "language_info": {
   "codemirror_mode": {
    "name": "ipython",
    "version": 3
   },
   "file_extension": ".py",
   "mimetype": "text/x-python",
   "name": "python",
   "nbconvert_exporter": "python",
   "pygments_lexer": "ipython3",
   "version": "3.13.2"
  }
 },
 "nbformat": 4,
 "nbformat_minor": 5
}
