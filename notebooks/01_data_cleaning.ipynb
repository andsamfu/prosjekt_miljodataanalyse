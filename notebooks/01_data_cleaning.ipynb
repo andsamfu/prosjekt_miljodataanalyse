{
 "cells": [
  {
   "cell_type": "markdown",
   "id": "517471da",
   "metadata": {},
   "source": [
    "# 🧼 Rensing og klargjøring av data\n",
    "\n",
    "I denne notebooken klargjør vi de innhentede datasettene fra NILU og Frost for videre analyse og visualisering.\n",
    "\n",
    "Vi utfører:\n",
    "- Strukturering av data\n",
    "- Fjerning av feil og outliers\n",
    "- Behandling av manglende verdier\n",
    "\n",
    "All renselogikk ligger i egne funksjoner og moduler\n"
   ]
  },
  {
   "cell_type": "code",
   "execution_count": null,
   "id": "665f2af1",
   "metadata": {
    "vscode": {
     "languageId": "plaintext"
    }
   },
   "outputs": [],
   "source": []
  },
  {
   "cell_type": "markdown",
   "id": "ed485a2d",
   "metadata": {},
   "source": [
    "## 🧽 Om rensing og datakvalitet\n",
    "\n",
    "Etter at vi har hentet inn data fra Frost (MET) og NILU, er neste steg å rense og klargjøre disse datasettene for videre analyse. Valgene vi har gjort i denne fasen handler ikke bare om å forbedre datakvaliteten, men også om å vise forståelse for hvordan ulike datakilder stiller ulike krav til rensing og vurdering.\n",
    "\n",
    "Vi har bevisst valgt to datasett med ulike egenskaper og utfordringer for å vise bredden i hva som kreves i en reell dataanalyseprosess:\n",
    "\n",
    "---\n",
    "\n",
    "### 🌫️ NILU – utfordrende og realistisk\n",
    "\n",
    "Datasettet fra NILU gir informasjon om luftforurensning i Trondheim, og er et **rikt, men ujevnt strukturert datasett**. Det inneholder:\n",
    "- Mange **manglende verdier**, spesielt i enkelte komponenter og perioder\n",
    "- En del **outliers og ekstreme målinger**\n",
    "- Ulike måleenheter og tidspunkter som må **harmoniseres**\n",
    "\n",
    "Dette gir oss en verdifull mulighet til å demonstrere konkrete rensestrategier som:\n",
    "- Tidsmessig standardisering og pivotering av data\n",
    "- Fjerning av outliers basert på statistiske grenser\n",
    "- Imputering og interpolering for å håndtere hull i tidsserien\n",
    "- Bruk av maskering for å vise hvilke verdier som er generert\n",
    "\n",
    "Ved å inkludere et datasett som dette, viser vi hvordan man kan **forbedre et «uryddig» datasett gjennom velbegrunnede teknikker** – og samtidig gjøre rede for hvordan rensingen påvirker datagrunnlaget videre. Dette gir god dekning av vurderingskriteriene i oppgave 3.\n",
    "\n",
    "---\n",
    "\n",
    "### 🌦️ Frost – strukturert og kvalitetssikret\n",
    "\n",
    "Datasettet fra Frost/MET består av meteorologiske observasjoner som:\n",
    "- Har høy grad av **standardisering og fullstendighet**\n",
    "- Følger et **konsistent format** med tydelige variabler og verdier\n",
    "- Er **forholdsvis «rent»** sammenlignet med NILU-dataene\n",
    "\n",
    "Her er rensingen mindre omfattende, men fortsatt viktig for å sikre:\n",
    "- Fjerning av ulogiske verdier (som temperaturer under -50 °C)\n",
    "- Konsistens i datoer og variabelnavn\n",
    "- Deteksjon av eventuelle hull i tidsserien\n",
    "\n",
    "For dette datasettet har vi brukt enkle valideringsklasser for å:\n",
    "- Identifisere manglende eller ugyldige verdier\n",
    "- Kontrollere at dataene er innenfor definerte verdigrenser\n",
    "- Undersøke kontinuitet i tidsrekken\n",
    "\n",
    "Selv om Frost-dataene ikke er like krevende som NILU, lar de oss vise hvordan man likevel bør validere også godt strukturerte data for å sikre pålitelighet i videre analyse og modellering.\n",
    "\n",
    "---\n",
    "\n",
    "### 💡 Hvorfor disse datasettene?\n",
    "\n",
    "Vi kunne valgt enklere eller mer «analyseklare» datasett, men ønsket å bruke disse to kildene fordi de lar oss:\n",
    "- Vise **ulike sider av datarensing**, fra enkel validering til avansert interpolasjon\n",
    "- Utforske konsekvensene av rensingen på **analyseklarhet og innsikt**\n",
    "- Reflektere over hvordan datasettets opprinnelige kvalitet påvirker metodene man må bruke\n",
    "\n",
    "Dette gir et solid grunnlag for de neste fasene i prosjektet: statistisk analyse, visualisering og prediktiv modellering.\n"
   ]
  },
  {
   "cell_type": "markdown",
   "id": "ccdc8579",
   "metadata": {},
   "source": []
  }
 ],
 "metadata": {
  "language_info": {
   "name": "python"
  }
 },
 "nbformat": 4,
 "nbformat_minor": 5
}
