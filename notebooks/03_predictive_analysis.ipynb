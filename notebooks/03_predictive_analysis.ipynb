{
 "cells": [
  {
   "cell_type": "markdown",
   "id": "ddd89403",
   "metadata": {},
   "source": [
    "\n",
    "## 🧱 Forslag til struktur\n",
    "### 1. 📘 Innledning\n",
    "\n",
    "- Kort om hva prediktiv analyse er\n",
    "- Hva vi forsøker å forutsi og hvorfor\n",
    "- Hvilket datasett vi bruker\n",
    "- Valg av metode (lineær regresjon)\n",
    "- Begrensninger (for enkel modell, kun én variabel osv.)\n",
    "\n",
    "> Eksempel:  \n",
    "> «I denne analysen ønsker vi å bruke historisk værdata til å forutsi utviklingen i temperatur i Trondheim. Dette gir oss innsikt i hvordan klimaet har utviklet seg, og hvordan det potensielt kan se ut fremover.»\n",
    "\n",
    "---\n",
    "\n",
    "### 2. 📂 Forberedelse av data\n",
    "\n",
    "- Importer data fra `frost.db` (SQL-spørring til tabellen `weather_data`)\n",
    "- Velg én av variablene som skal predikeres (f.eks. `mean_air_temperature`)\n",
    "- Opprett en tidsbasert numerisk indeks (`days_since_start`, `årstall`, osv.)\n",
    "- Del opp i trenings- og testdata (f.eks. 80/20-splitt)\n",
    "\n",
    "---\n",
    "\n",
    "### 3. 📈 Bygg og tren modell\n",
    "\n",
    "- Bruk `scikit-learn` sin `LinearRegression`\n",
    "- Tren modellen på treningsdata\n",
    "- Lag prediksjoner på testsett\n",
    "- Lag graf: faktisk vs. predikert\n",
    "\n",
    "---\n",
    "\n",
    "### 4. 🧪 Evaluer modellen\n",
    "\n",
    "- Metrikker: `mean_squared_error`, `r2_score`\n",
    "- Refleksjon:\n",
    "  - Er modellen god?\n",
    "  - Er det systematiske feil?\n",
    "  - Ville en mer avansert modell gjort det bedre?\n",
    "\n",
    "---\n",
    "\n",
    "### 5. 🔭 Prediker fremtidige verdier\n",
    "\n",
    "- Forleng tidsaksen med 1–5 år\n",
    "- Lag prediksjoner fremover i tid\n",
    "- Visualiser prediksjon med usikkerhet hvis ønskelig\n",
    "\n",
    "> Tips: Lag én graf som viser:\n",
    "> - historiske verdier\n",
    "> - testsett og modellprediksjon\n",
    "> - fremtidig estimert trend\n",
    "\n",
    "\n",
    "\n",
    "## ✅ Husk underveis:\n",
    "- Dokumentér valg du tar underveis, og hvorfor\n",
    "- Ikke fokuser på «perfekt modell» – vis forståelse og refleksjon\n",
    "- Bruk grafene til å vise resultater, ikke bare skrive dem\n",
    "\n"
   ]
  },
  {
   "cell_type": "markdown",
   "id": "0838af07",
   "metadata": {},
   "source": []
  },
  {
   "cell_type": "markdown",
   "id": "932cac27",
   "metadata": {},
   "source": [
    "# 🔮 - Predektiv analyse av været og luftkvalitet i Trondheim\n",
    "Tidligere i prosjektet har vi sett på hvordan både været og luftkvaliteten i Trondheim har vært de siste årene. I denne notebooken skal vi ta et steg videre ved å gi oss kunnskap om mulig utvikling av både temperaturer, nedbør og vind i Trondheim. Vi har valgt å kun gjøre visualisering på datasettet fra Frost, grunnet knapphet på tid å ressurser. \n",
    "\n",
    "En predektiv modell på været i Trondheim kan gi oss nyttig og intressant informasjon om hvilket vær vi må forholde oss til fremmover. Trondheim er jo allerede en by som er kjent for nedbør, så det kan jo umulig bli værre?🤷🏽\n",
    "\n",
    "### 🌡️ - Temperaturer\n",
    "Det første vi skal se på er utviklingen over temperaturer i Trondheim. \n",
    "*Under skal det vises en graf over temperaturer i Trondheim for å se om det er noen trend. Skriv deretter om trenden*"
   ]
  },
  {
   "cell_type": "code",
   "execution_count": null,
   "id": "a777eb43",
   "metadata": {},
   "outputs": [],
   "source": [
    "# Hent inn graf over predektiv analyse av temperatur i Trondheim"
   ]
  },
  {
   "cell_type": "markdown",
   "id": "60d85e08",
   "metadata": {},
   "source": [
    "### ☔️ - Blir det mer regn i Trondheim?\n",
    "Som sagt er Trondheim en by som er kjent for en del nedbør. Ikke fullt så mye som Bergen, men ikke langt bak. Selv er vi ikke veldig glad i nedbør, så utviklingen på antall mm nedbør er nyttig for oss mtp. videre liv i Trondheim etter studiene. Under er et søylediagram som viser at ....."
   ]
  },
  {
   "cell_type": "code",
   "execution_count": null,
   "id": "9147c5dd",
   "metadata": {},
   "outputs": [],
   "source": [
    "# Hent inn søylediagram for nedbør i Trondheim"
   ]
  }
 ],
 "metadata": {
  "language_info": {
   "name": "python"
  }
 },
 "nbformat": 4,
 "nbformat_minor": 5
}
