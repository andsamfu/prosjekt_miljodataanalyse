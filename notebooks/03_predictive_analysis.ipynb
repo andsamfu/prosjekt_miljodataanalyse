{
 "cells": [
  {
   "cell_type": "markdown",
   "id": "ddd89403",
   "metadata": {},
   "source": [
    "\n",
    "## 🧱 Forslag til struktur\n",
    "### 1. 📘 Innledning\n",
    "\n",
    "- Kort om hva prediktiv analyse er\n",
    "- Hva vi forsøker å forutsi og hvorfor\n",
    "- Hvilket datasett vi bruker\n",
    "- Valg av metode (lineær regresjon)\n",
    "- Begrensninger (for enkel modell, kun én variabel osv.)\n",
    "\n",
    "> Eksempel:  \n",
    "> «I denne analysen ønsker vi å bruke historisk værdata til å forutsi utviklingen i temperatur i Trondheim. Dette gir oss innsikt i hvordan klimaet har utviklet seg, og hvordan det potensielt kan se ut fremover.»\n",
    "\n",
    "---\n",
    "\n",
    "### 2. 📂 Forberedelse av data\n",
    "\n",
    "- Importer data fra `frost.db` (SQL-spørring til tabellen `weather_data`)\n",
    "- Velg én av variablene som skal predikeres (f.eks. `mean_air_temperature`)\n",
    "- Opprett en tidsbasert numerisk indeks (`days_since_start`, `årstall`, osv.)\n",
    "- Del opp i trenings- og testdata (f.eks. 80/20-splitt)\n",
    "\n",
    "---\n",
    "\n",
    "### 3. 📈 Bygg og tren modell\n",
    "\n",
    "- Bruk `scikit-learn` sin `LinearRegression`\n",
    "- Tren modellen på treningsdata\n",
    "- Lag prediksjoner på testsett\n",
    "- Lag graf: faktisk vs. predikert\n",
    "\n",
    "---\n",
    "\n",
    "### 4. 🧪 Evaluer modellen\n",
    "\n",
    "- Metrikker: `mean_squared_error`, `r2_score`\n",
    "- Refleksjon:\n",
    "  - Er modellen god?\n",
    "  - Er det systematiske feil?\n",
    "  - Ville en mer avansert modell gjort det bedre?\n",
    "\n",
    "---\n",
    "\n",
    "### 5. 🔭 Prediker fremtidige verdier\n",
    "\n",
    "- Forleng tidsaksen med 1–5 år\n",
    "- Lag prediksjoner fremover i tid\n",
    "- Visualiser prediksjon med usikkerhet hvis ønskelig\n",
    "\n",
    "> Tips: Lag én graf som viser:\n",
    "> - historiske verdier\n",
    "> - testsett og modellprediksjon\n",
    "> - fremtidig estimert trend\n",
    "\n",
    "\n",
    "\n",
    "## ✅ Husk underveis:\n",
    "- Dokumentér valg du tar underveis, og hvorfor\n",
    "- Ikke fokuser på «perfekt modell» – vis forståelse og refleksjon\n",
    "- Bruk grafene til å vise resultater, ikke bare skrive dem\n",
    "\n"
   ]
  },
  {
   "cell_type": "markdown",
   "id": "0838af07",
   "metadata": {},
   "source": []
  },
  {
   "cell_type": "markdown",
   "id": "932cac27",
   "metadata": {},
   "source": [
    "# 🔮 - Predektiv analyse av været og luftkvalitet i Trondheim\n",
    "Tidligere i prosjektet har vi sett på hvordan både været og luftkvaliteten i Trondheim har vært de siste årene. I denne notebooken skal vi ta et steg videre ved å gi oss kunnskap om mulig utvikling av temperaturen i Trondheim, og å se om luftkvaliteten fortsetter å bedre seg.\n",
    "\n",
    "Slike prediktive modeller er nyttige fordi de kan hjelpe oss å forstå hva som kan skje i framtiden. Ved å bruke historiske data kan vi se trender og forutsi utviklingen. Dette kan være viktig for å planlegge tiltak, for eksempel hvis temperaturen øker eller luftkvaliteten blir dårligere. Selv enkle modeller som vi lager, kan gi nyttig innsikt. \n",
    "\n",
    "### 🌡️ - Temperaturer\n",
    "Det første vi skal se på er utviklingen over temperaturer i Trondheim. Under ser man en visuell fremvisning av de n prediktive analysen. Grafen viser den historiske tempereturutviklingen i Trondheim fra 2010 til 2020, og deretter en prediktiv graf for 2020 til 2022. Grafen har forskjellige fargekoder og utseende. Den blå linjen viser modellens treningsdata, den grønne viser valideringsdata, og den stiplede linjen viser modellens prediksjoner av temperaturen fra midten av 2017 til 2022. Dette er en fin visualisering fordi man visuelt kan se om den prediktive grafen stemmer med historisk data (valideringsdata).\n",
    "\n",
    "Vi ser tydelige sesongvariasjoner i temperaturene, med varme somre og kalde vintre. Modellen klarer å fange opp disse overordnede mønstrene også for fremtiden, og predikerer at slike sesongmessige svingninger vil fortsette. Samtidig jevner modellen ut dag til dag variasjoner og fanger ikke opp korte temperatursvingninger. Dette er en begrensning ved en enkel lineær modell, men den gir likevel nyttig innsikt i de langsiktige trendene."
   ]
  },
  {
   "cell_type": "code",
   "execution_count": null,
   "id": "a777eb43",
   "metadata": {},
   "outputs": [],
   "source": [
    "# Hent inn graf over predektiv analyse av temperatur i Trondheim"
   ]
  },
  {
   "cell_type": "markdown",
   "id": "60d85e08",
   "metadata": {},
   "source": [
    "### ☔️ - Blir det mer regn i Trondheim?\n",
    "Som sagt er Trondheim en by som er kjent for en del nedbør. Ikke fullt så mye som Bergen, men ikke langt bak. Selv er vi ikke veldig glad i nedbør, så utviklingen på antall mm nedbør er nyttig for oss mtp. videre liv i Trondheim etter studiene. Under er et søylediagram som viser at ....."
   ]
  },
  {
   "cell_type": "code",
   "execution_count": null,
   "id": "9147c5dd",
   "metadata": {},
   "outputs": [],
   "source": [
    "# Hent inn søylediagram for nedbør i Trondheim"
   ]
  }
 ],
 "metadata": {
  "kernelspec": {
   "display_name": "venv",
   "language": "python",
   "name": "python3"
  },
  "language_info": {
   "name": "python",
   "version": "3.13.2"
  }
 },
 "nbformat": 4,
 "nbformat_minor": 5
}
